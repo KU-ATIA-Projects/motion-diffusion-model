{
 "cells": [
  {
   "cell_type": "code",
   "execution_count": 1,
   "metadata": {},
   "outputs": [
    {
     "name": "stderr",
     "output_type": "stream",
     "text": [
      "/home/ctq566/miniconda3/envs/mdm/lib/python3.7/site-packages/tqdm/auto.py:22: TqdmWarning: IProgress not found. Please update jupyter and ipywidgets. See https://ipywidgets.readthedocs.io/en/stable/user_install.html\n",
      "  from .autonotebook import tqdm as notebook_tqdm\n"
     ]
    }
   ],
   "source": [
    "import numpy as np\n",
    "from pytorch3d.transforms import matrix_to_rotation_6d\n",
    "from model.rotation2xyz import Rotation2xyz\n",
    "\n",
    "\n",
    "def xyz_to_rotation_matrix(xyz):\n",
    "    x, y, z = xyz\n",
    "\n",
    "    # Perform necessary calculations to obtain the rotation matrix\n",
    "    # Replace the following lines with your actual calculation\n",
    "    cos_x = np.cos(x)\n",
    "    sin_x = np.sin(x)\n",
    "    cos_y = np.cos(y)\n",
    "    sin_y = np.sin(y)\n",
    "    cos_z = np.cos(z)\n",
    "    sin_z = np.sin(z)\n",
    "\n",
    "    # Define the rotation matrix\n",
    "    rotation_matrix = np.array([[cos_y * cos_z, cos_x * sin_z + sin_x * sin_y * cos_z, sin_x * sin_z - cos_x * sin_y * cos_z],\n",
    "                                [-cos_y * sin_z, cos_x * cos_z - sin_x * sin_y * sin_z, sin_x * cos_z + cos_x * sin_y * sin_z],\n",
    "                                [sin_y, -sin_x * cos_y, cos_x * cos_y]])\n",
    "\n",
    "    return rotation_matrix\n",
    "\n",
    "\n",
    "def motion_xyz2rot(motion):\n",
    "    N, J, D = motion.shape\n",
    "    motion_rot = np.zeros((N, J, 9))\n",
    "    for i in range(N):\n",
    "        for j in range(J):\n",
    "            motion_rot[i, j] = xyz_to_rotation_matrix(motion[i, j])\n",
    "    return motion_rot\n"
   ]
  },
  {
   "cell_type": "code",
   "execution_count": 2,
   "metadata": {},
   "outputs": [
    {
     "data": {
      "text/plain": [
       "(120, 22, 3)"
      ]
     },
     "execution_count": 2,
     "metadata": {},
     "output_type": "execute_result"
    }
   ],
   "source": [
    "motion = np.load('/home/ctq566/motion-diffusion-model/save/p2p_quaternion_2_random/001/sample00_rep00.npy')\n",
    "motion.shape\n"
   ]
  },
  {
   "cell_type": "code",
   "execution_count": 3,
   "metadata": {},
   "outputs": [
    {
     "ename": "ValueError",
     "evalue": "could not broadcast input array from shape (3,3) into shape (9,)",
     "output_type": "error",
     "traceback": [
      "\u001b[0;31m---------------------------------------------------------------------------\u001b[0m",
      "\u001b[0;31mValueError\u001b[0m                                Traceback (most recent call last)",
      "\u001b[0;32m/tmp/ipykernel_964043/2492972065.py\u001b[0m in \u001b[0;36m<module>\u001b[0;34m\u001b[0m\n\u001b[0;32m----> 1\u001b[0;31m \u001b[0mmotion_xyz2rot\u001b[0m\u001b[0;34m(\u001b[0m\u001b[0mmotion\u001b[0m\u001b[0;34m)\u001b[0m\u001b[0;34m.\u001b[0m\u001b[0mshape\u001b[0m\u001b[0;34m\u001b[0m\u001b[0;34m\u001b[0m\u001b[0m\n\u001b[0m",
      "\u001b[0;32m/tmp/ipykernel_964043/2172592736.py\u001b[0m in \u001b[0;36mmotion_xyz2rot\u001b[0;34m(motion)\u001b[0m\n\u001b[1;32m     29\u001b[0m     \u001b[0;32mfor\u001b[0m \u001b[0mi\u001b[0m \u001b[0;32min\u001b[0m \u001b[0mrange\u001b[0m\u001b[0;34m(\u001b[0m\u001b[0mN\u001b[0m\u001b[0;34m)\u001b[0m\u001b[0;34m:\u001b[0m\u001b[0;34m\u001b[0m\u001b[0;34m\u001b[0m\u001b[0m\n\u001b[1;32m     30\u001b[0m         \u001b[0;32mfor\u001b[0m \u001b[0mj\u001b[0m \u001b[0;32min\u001b[0m \u001b[0mrange\u001b[0m\u001b[0;34m(\u001b[0m\u001b[0mJ\u001b[0m\u001b[0;34m)\u001b[0m\u001b[0;34m:\u001b[0m\u001b[0;34m\u001b[0m\u001b[0;34m\u001b[0m\u001b[0m\n\u001b[0;32m---> 31\u001b[0;31m             \u001b[0mmotion_rot\u001b[0m\u001b[0;34m[\u001b[0m\u001b[0mi\u001b[0m\u001b[0;34m,\u001b[0m \u001b[0mj\u001b[0m\u001b[0;34m]\u001b[0m \u001b[0;34m=\u001b[0m \u001b[0mxyz_to_rotation_matrix\u001b[0m\u001b[0;34m(\u001b[0m\u001b[0mmotion\u001b[0m\u001b[0;34m[\u001b[0m\u001b[0mi\u001b[0m\u001b[0;34m,\u001b[0m \u001b[0mj\u001b[0m\u001b[0;34m]\u001b[0m\u001b[0;34m)\u001b[0m\u001b[0;34m\u001b[0m\u001b[0;34m\u001b[0m\u001b[0m\n\u001b[0m\u001b[1;32m     32\u001b[0m     \u001b[0;32mreturn\u001b[0m \u001b[0mmotion_rot\u001b[0m\u001b[0;34m\u001b[0m\u001b[0;34m\u001b[0m\u001b[0m\n",
      "\u001b[0;31mValueError\u001b[0m: could not broadcast input array from shape (3,3) into shape (9,)"
     ]
    }
   ],
   "source": [
    "motion_xyz2rot(motion).shape"
   ]
  },
  {
   "cell_type": "code",
   "execution_count": 10,
   "metadata": {},
   "outputs": [],
   "source": [
    "rot2xyz = Rotation2xyz(device='cpu', dataset='amass')\n"
   ]
  },
  {
   "cell_type": "code",
   "execution_count": 4,
   "metadata": {},
   "outputs": [
    {
     "name": "stdout",
     "output_type": "stream",
     "text": [
      "[[ 0.78867513 -0.21132487  0.57735027]\n",
      " [-0.21132487  0.78867513  0.57735027]\n",
      " [-0.57735027 -0.57735027  0.57735027]]\n"
     ]
    }
   ],
   "source": [
    "import numpy as np\n",
    "\n",
    "\n",
    "def compute_rotation_matrix(joint_pos, point_pos):\n",
    "    # Define the original vector\n",
    "    origin_vector = np.array([0, 0, 1])\n",
    "    # Define the target vector\n",
    "    target_vector = point_pos - joint_pos\n",
    "    # Normalize the target vector\n",
    "    target_vector = target_vector / np.linalg.norm(target_vector)\n",
    "    # Compute the cross product of the original and target vectors\n",
    "    v = np.cross(origin_vector, target_vector)\n",
    "    # Compute the dot product of the original and target vectors\n",
    "    c = np.dot(origin_vector, target_vector)\n",
    "    # Compute the skew symmetric cross-product matrix of v\n",
    "    v_x = np.array([[0, -v[2], v[1]],\n",
    "                    [v[2], 0, -v[0]],\n",
    "                    [-v[1], v[0], 0]])\n",
    "    # Compute the rotation matrix\n",
    "    rotation_matrix = np.eye(3) + v_x + np.dot(v_x, v_x) * ((1 - c) / (np.linalg.norm(v) ** 2))\n",
    "    return rotation_matrix\n",
    "\n",
    "\n",
    "# Test with some data\n",
    "joint_pos = np.array([0, 0, 0], dtype=float)\n",
    "point_pos = np.array([1, 1, 1], dtype=float)\n",
    "rotation_matrix = compute_rotation_matrix(joint_pos, point_pos)\n",
    "print(rotation_matrix)\n",
    "\n",
    "\n",
    "# Assuming ‘data’ is your array of shape (120, 24, 3)\n",
    "# data = np.load(‘/Users/zhangbin/Desktop/motion_data/sample00_rep00.npy’)\n"
   ]
  },
  {
   "cell_type": "code",
   "execution_count": 14,
   "metadata": {},
   "outputs": [],
   "source": [
    "data = motion\n",
    "rotation_matrices = []\n",
    "# For each frame...\n",
    "for i in range(data.shape[0]):\n",
    "    rotation_matrices_frame = []\n",
    "    # For the first joint, append an identity matrix\n",
    "    rotation_matrices_frame.append(np.eye(3))\n",
    "    # For each pair of joints...\n",
    "    for j in range(1, data.shape[1]):\n",
    "        joint_pos = data[i, j-1, :]\n",
    "        point_pos = data[i, j, :]\n",
    "        rotation_matrix = compute_rotation_matrix(joint_pos, point_pos)\n",
    "        rotation_matrices_frame.append(rotation_matrix)\n",
    "    rotation_matrices.append(rotation_matrices_frame)\n",
    "# Convert to numpy array\n",
    "rotation_matrices = np.array(rotation_matrices)"
   ]
  },
  {
   "cell_type": "code",
   "execution_count": 15,
   "metadata": {},
   "outputs": [
    {
     "data": {
      "text/plain": [
       "(120, 22, 3, 3)"
      ]
     },
     "execution_count": 15,
     "metadata": {},
     "output_type": "execute_result"
    }
   ],
   "source": [
    "rotation_matrices.shape"
   ]
  },
  {
   "cell_type": "code",
   "execution_count": 25,
   "metadata": {},
   "outputs": [
    {
     "ename": "RuntimeError",
     "evalue": "permute(sparse_coo): number of dimensions in the tensor input does not match the length of the desired ordering of dimensions i.e. input.dim() = 5 is not equal to len(dims) = 4",
     "output_type": "error",
     "traceback": [
      "\u001b[0;31m---------------------------------------------------------------------------\u001b[0m",
      "\u001b[0;31mRuntimeError\u001b[0m                              Traceback (most recent call last)",
      "\u001b[0;32m/tmp/ipykernel_964043/1615433040.py\u001b[0m in \u001b[0;36m<module>\u001b[0;34m\u001b[0m\n\u001b[1;32m      2\u001b[0m \u001b[0;34m\u001b[0m\u001b[0m\n\u001b[1;32m      3\u001b[0m \u001b[0;34m\u001b[0m\u001b[0m\n\u001b[0;32m----> 4\u001b[0;31m \u001b[0mrot2xyz\u001b[0m\u001b[0;34m(\u001b[0m\u001b[0mx\u001b[0m\u001b[0;34m=\u001b[0m\u001b[0mtorch\u001b[0m\u001b[0;34m.\u001b[0m\u001b[0mtensor\u001b[0m\u001b[0;34m(\u001b[0m\u001b[0mrotation_matrices\u001b[0m\u001b[0;34m)\u001b[0m\u001b[0;34m.\u001b[0m\u001b[0munsqueeze\u001b[0m\u001b[0;34m(\u001b[0m\u001b[0;36m0\u001b[0m\u001b[0;34m)\u001b[0m\u001b[0;34m,\u001b[0m \u001b[0mmask\u001b[0m\u001b[0;34m=\u001b[0m\u001b[0;32mNone\u001b[0m\u001b[0;34m,\u001b[0m \u001b[0mpose_rep\u001b[0m\u001b[0;34m=\u001b[0m\u001b[0;34m'rotmat'\u001b[0m\u001b[0;34m,\u001b[0m \u001b[0mglob\u001b[0m\u001b[0;34m=\u001b[0m\u001b[0;32mTrue\u001b[0m\u001b[0;34m,\u001b[0m \u001b[0mtranslation\u001b[0m\u001b[0;34m=\u001b[0m\u001b[0;32mFalse\u001b[0m\u001b[0;34m,\u001b[0m \u001b[0mjointstype\u001b[0m\u001b[0;34m=\u001b[0m\u001b[0;34m'smpl'\u001b[0m\u001b[0;34m,\u001b[0m \u001b[0mvertstrans\u001b[0m\u001b[0;34m=\u001b[0m\u001b[0;32mTrue\u001b[0m\u001b[0;34m,\u001b[0m \u001b[0mbetas\u001b[0m\u001b[0;34m=\u001b[0m\u001b[0;32mNone\u001b[0m\u001b[0;34m,\u001b[0m \u001b[0mbeta\u001b[0m\u001b[0;34m=\u001b[0m\u001b[0;36m0\u001b[0m\u001b[0;34m,\u001b[0m \u001b[0mglob_rot\u001b[0m\u001b[0;34m=\u001b[0m\u001b[0;32mNone\u001b[0m\u001b[0;34m,\u001b[0m \u001b[0mget_rotations_back\u001b[0m\u001b[0;34m=\u001b[0m\u001b[0;32mFalse\u001b[0m\u001b[0;34m)\u001b[0m\u001b[0;34m\u001b[0m\u001b[0;34m\u001b[0m\u001b[0m\n\u001b[0m",
      "\u001b[0;32m~/motion-diffusion-model/model/rotation2xyz.py\u001b[0m in \u001b[0;36m__call__\u001b[0;34m(self, x, mask, pose_rep, translation, glob, jointstype, vertstrans, betas, beta, glob_rot, get_rotations_back, **kwargs)\u001b[0m\n\u001b[1;32m     36\u001b[0m             \u001b[0mx_rotations\u001b[0m \u001b[0;34m=\u001b[0m \u001b[0mx\u001b[0m\u001b[0;34m\u001b[0m\u001b[0;34m\u001b[0m\u001b[0m\n\u001b[1;32m     37\u001b[0m \u001b[0;34m\u001b[0m\u001b[0m\n\u001b[0;32m---> 38\u001b[0;31m         \u001b[0mx_rotations\u001b[0m \u001b[0;34m=\u001b[0m \u001b[0mx_rotations\u001b[0m\u001b[0;34m.\u001b[0m\u001b[0mpermute\u001b[0m\u001b[0;34m(\u001b[0m\u001b[0;36m0\u001b[0m\u001b[0;34m,\u001b[0m \u001b[0;36m3\u001b[0m\u001b[0;34m,\u001b[0m \u001b[0;36m1\u001b[0m\u001b[0;34m,\u001b[0m \u001b[0;36m2\u001b[0m\u001b[0;34m)\u001b[0m\u001b[0;34m\u001b[0m\u001b[0;34m\u001b[0m\u001b[0m\n\u001b[0m\u001b[1;32m     39\u001b[0m         \u001b[0mnsamples\u001b[0m\u001b[0;34m,\u001b[0m \u001b[0mtime\u001b[0m\u001b[0;34m,\u001b[0m \u001b[0mnjoints\u001b[0m\u001b[0;34m,\u001b[0m \u001b[0mfeats\u001b[0m \u001b[0;34m=\u001b[0m \u001b[0mx_rotations\u001b[0m\u001b[0;34m.\u001b[0m\u001b[0mshape\u001b[0m\u001b[0;34m\u001b[0m\u001b[0;34m\u001b[0m\u001b[0m\n\u001b[1;32m     40\u001b[0m \u001b[0;34m\u001b[0m\u001b[0m\n",
      "\u001b[0;31mRuntimeError\u001b[0m: permute(sparse_coo): number of dimensions in the tensor input does not match the length of the desired ordering of dimensions i.e. input.dim() = 5 is not equal to len(dims) = 4"
     ]
    }
   ],
   "source": [
    "import torch\n",
    "\n",
    "\n",
    "rot2xyz(x=torch.tensor(rotation_matrices).unsqueeze(0), mask=None, pose_rep='rotmat', glob=True, translation=False, jointstype='smpl', vertstrans=True, betas=None, beta=0, glob_rot=None, get_rotations_back=False)"
   ]
  },
  {
   "cell_type": "code",
   "execution_count": 24,
   "metadata": {},
   "outputs": [
    {
     "data": {
      "text/plain": [
       "torch.Size([1, 120, 22, 3, 3])"
      ]
     },
     "execution_count": 24,
     "metadata": {},
     "output_type": "execute_result"
    }
   ],
   "source": [
    "torch.tensor(rotation_matrices).unsqueeze(0).shape"
   ]
  },
  {
   "cell_type": "code",
   "execution_count": null,
   "metadata": {},
   "outputs": [],
   "source": []
  }
 ],
 "metadata": {
  "kernelspec": {
   "display_name": "mdm",
   "language": "python",
   "name": "python3"
  },
  "language_info": {
   "codemirror_mode": {
    "name": "ipython",
    "version": 3
   },
   "file_extension": ".py",
   "mimetype": "text/x-python",
   "name": "python",
   "nbconvert_exporter": "python",
   "pygments_lexer": "ipython3",
   "version": "3.7.13"
  },
  "orig_nbformat": 4
 },
 "nbformat": 4,
 "nbformat_minor": 2
}
