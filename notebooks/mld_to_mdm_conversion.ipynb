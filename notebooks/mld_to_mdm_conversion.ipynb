{
 "cells": [
  {
   "attachments": {},
   "cell_type": "markdown",
   "metadata": {},
   "source": [
    "# Convert MLD output to MDM output and visualize it"
   ]
  },
  {
   "attachments": {},
   "cell_type": "markdown",
   "metadata": {},
   "source": [
    "## MDM output format"
   ]
  },
  {
   "cell_type": "code",
   "execution_count": 3,
   "metadata": {},
   "outputs": [
    {
     "name": "stdout",
     "output_type": "stream",
     "text": [
      "motion <class 'numpy.ndarray'> (3, 22, 3, 120)\n",
      "text <class 'list'> ['The man spun in place three times.', 'The man spun in place three times.', 'The man spun in place three times.']\n",
      "lengths <class 'numpy.ndarray'> (3,)\n",
      "num_samples <class 'int'> 1\n",
      "num_repetitions <class 'int'> 3\n"
     ]
    }
   ],
   "source": [
    "import numpy as np\n",
    "\n",
    "mdm_data = np.load('/home/ctq566/motion-diffusion-model/save/humanml_trans_enc_512/samples_humanml_trans_enc_512_000200000_seed10_The_man_spun_in_place_three_times/results.npy', allow_pickle=True).item()\n",
    "# print all keys and value type of mdm_data, if it has shape attribute, print its shape in the same line, otherwise print its value\n",
    "for key, value in mdm_data.items():\n",
    "    if hasattr(value, 'shape'):\n",
    "        print(key, type(value), value.shape)\n",
    "    else:\n",
    "        print(key, type(value), value)\n",
    "        "
   ]
  },
  {
   "attachments": {},
   "cell_type": "markdown",
   "metadata": {},
   "source": [
    "## MLD output format"
   ]
  },
  {
   "cell_type": "code",
   "execution_count": 4,
   "metadata": {},
   "outputs": [
    {
     "data": {
      "text/plain": [
       "(50, 22, 3)"
      ]
     },
     "execution_count": 4,
     "metadata": {},
     "output_type": "execute_result"
    }
   ],
   "source": [
    "mld_data = np.load('/home/ctq566/motion-diffusion-model/playground/Example_50_batch0_0.npy', allow_pickle=True)\n",
    "mld_data.shape\n"
   ]
  },
  {
   "cell_type": "code",
   "execution_count": 7,
   "metadata": {},
   "outputs": [],
   "source": [
    "mld_data_dict = {'motion': mld_data.transpose((1, 2, 0)).reshape((1, 22, 3, 50)), 'text': 'No text', 'lengths': np.asarray([50]), 'num_samples': 1, 'num_repetitions': 1}\n",
    "np.save('results.npy', mld_data_dict)\n"
   ]
  },
  {
   "attachments": {},
   "cell_type": "markdown",
   "metadata": {},
   "source": [
    "## The conversion and the stick animation generation"
   ]
  },
  {
   "cell_type": "code",
   "execution_count": 1,
   "metadata": {},
   "outputs": [],
   "source": [
    "import os\n",
    "import sys\n",
    "sys.path.append('/home/ctq566/motion-diffusion-model/')\n",
    "import numpy as np\n",
    "import data_loaders.humanml.utils.paramUtil as paramUtil\n",
    "from data_loaders.humanml.utils.plot_script import plot_3d_motion\n",
    "\n",
    "def mld_to_mdm(mld_data_path):\n",
    "    assert isinstance(mld_data_path, str)\n",
    "    mld_data = np.load(mld_data_path, allow_pickle=True)\n",
    "    lengths = mld_data.shape[0]\n",
    "    mld_data_dict = {'motion': mld_data.transpose((1, 2, 0)).reshape((1, 22, 3, lengths)), 'text': 'No text', 'lengths': np.asarray([lengths]), 'num_samples': 1, 'num_repetitions': 1}\n",
    "    # save the result to the same directory as results.npy\n",
    "    np.save(f'{os.path.dirname(mld_data_path)}/results.npy', mld_data_dict)\n",
    "\n",
    "    animation_save_path = f'{os.path.dirname(mld_data_path)}/sample00_rep00.mp4'\n",
    "    skeleton = paramUtil.t2m_kinematic_chain\n",
    "    motion = mld_data\n",
    "    dataset = 'humanml'\n",
    "    title = 'No title'\n",
    "    fps = 20\n",
    "    plot_3d_motion(animation_save_path, skeleton, motion, title, dataset, fps=fps)\n",
    "\n",
    "    \n",
    "mld_to_mdm('/home/ctq566/motion-diffusion-model/playground/Example_50_batch0_0.npy')\n"
   ]
  },
  {
   "attachments": {},
   "cell_type": "markdown",
   "metadata": {},
   "source": [
    "## Batch conversion"
   ]
  },
  {
   "cell_type": "code",
   "execution_count": 22,
   "metadata": {},
   "outputs": [
    {
     "name": "stdout",
     "output_type": "stream",
     "text": [
      "Converting mld data in /home/ctq566/motion-diffusion-model/playground/samples_2023-02-22-21-58-06 to mdm data\n"
     ]
    },
    {
     "name": "stderr",
     "output_type": "stream",
     "text": [
      "100%|██████████| 467/467 [35:36<00:00,  4.57s/it]"
     ]
    },
    {
     "name": "stdout",
     "output_type": "stream",
     "text": [
      "Done\n"
     ]
    },
    {
     "name": "stderr",
     "output_type": "stream",
     "text": [
      "\n"
     ]
    }
   ],
   "source": [
    "import glob\n",
    "import tqdm\n",
    "\n",
    "\n",
    "def batch_convert_mld_to_mdm(mld_data_dir):\n",
    "    assert isinstance(mld_data_dir, str)\n",
    "    assert os.path.isdir(mld_data_dir)\n",
    "    print(f'Converting mld data in {mld_data_dir} to mdm data')\n",
    "    for mld_data_path in tqdm.tqdm(glob.glob(f'{mld_data_dir}/*.npy')):\n",
    "        # create a new directory for each mld data\n",
    "        new_dir = f'{mld_data_dir}/{os.path.basename(mld_data_path).split(\".\")[0]}'\n",
    "        os.mkdir(new_dir)\n",
    "        # move the mld data to the new directory\n",
    "        os.rename(mld_data_path,\n",
    "                  f'{new_dir}/{os.path.basename(mld_data_path)}')\n",
    "        # change the mld_data_path to the new directory\n",
    "        mld_data_path = f'{new_dir}/{os.path.basename(mld_data_path)}'\n",
    "        # convert the mld data to mdm data\n",
    "        mld_to_mdm(mld_data_path)\n",
    "    print('Done')\n",
    "\n",
    "\n",
    "batch_convert_mld_to_mdm(\n",
    "    '/home/ctq566/motion-diffusion-model/playground/samples_2023-02-22-21-58-06')\n"
   ]
  }
 ],
 "metadata": {
  "kernelspec": {
   "display_name": "mdm",
   "language": "python",
   "name": "python3"
  },
  "language_info": {
   "codemirror_mode": {
    "name": "ipython",
    "version": 3
   },
   "file_extension": ".py",
   "mimetype": "text/x-python",
   "name": "python",
   "nbconvert_exporter": "python",
   "pygments_lexer": "ipython3",
   "version": "3.7.13"
  },
  "orig_nbformat": 4,
  "vscode": {
   "interpreter": {
    "hash": "cf8f9faf42866fdcd07a58468c0a330e2dab640d2d2c1294540c4a766bac15a7"
   }
  }
 },
 "nbformat": 4,
 "nbformat_minor": 2
}
