{
 "cells": [
  {
   "cell_type": "code",
   "execution_count": 1,
   "metadata": {},
   "outputs": [
    {
     "name": "stderr",
     "output_type": "stream",
     "text": [
      "Pairs: 100%|██████████| 119/119 [05:00<00:00,  2.52s/it]\n",
      "Pairs: 100%|██████████| 119/119 [04:57<00:00,  2.50s/it]it]\n",
      "Pairs: 100%|██████████| 119/119 [04:56<00:00,  2.49s/it]it]\n",
      "Repetitions: 100%|██████████| 3/3 [14:54<00:00, 298.10s/it]\n"
     ]
    }
   ],
   "source": [
    "import os\n",
    "import subprocess\n",
    "from glob import glob\n",
    "from tqdm import tqdm\n",
    "\n",
    "\n",
    "input_dirs = glob('/home/ctq566/motion-diffusion-model/save/p2p_quaternion/*')\n",
    "output_dir = \"/home/ctq566/motion-diffusion-model/save/p2p_quaternion_grid/\"\n",
    "num_pairs = 119\n",
    "num_repetitions = 3\n",
    "num_rows = 4\n",
    "\n",
    "\n",
    "def generate_hstack_videos(input_videos, output_video):    \n",
    "    ffmpeg_rep_files = [f' -i {f} ' for f in input_videos]\n",
    "    hstack_args = f' -filter_complex hstack=inputs={len(input_videos)}' if len(input_videos) > 1 else ''\n",
    "    ffmpeg_rep_cmd = f'ffmpeg -y -loglevel warning ' + ''.join(ffmpeg_rep_files) + f'{hstack_args} {output_video}'\n",
    "    os.system(ffmpeg_rep_cmd)\n",
    "\n",
    "\n",
    "def generate_vstack_videos(input_videos, output_video):\n",
    "    ffmpeg_rep_files = [f' -i {f} ' for f in input_videos]\n",
    "    vstack_args = f' -filter_complex vstack=inputs={len(input_videos)}' if len(input_videos) > 1 else ''\n",
    "    ffmpeg_rep_cmd = f'ffmpeg -y -loglevel warning ' + ''.join(ffmpeg_rep_files) + f'{vstack_args} {output_video}'\n",
    "    os.system(ffmpeg_rep_cmd)\n",
    "\n",
    "os.makedirs(output_dir, exist_ok=True)\n",
    "\n",
    "# Iterate over the pair indexes and repetitions\n",
    "for rep_idx in tqdm(range(num_repetitions), desc=\"Repetitions\"):\n",
    "    for pair_idx in tqdm(range(0, num_pairs * num_rows, num_rows), desc=\"Pairs\"):\n",
    "        output_videos = []\n",
    "        # Build the list of input video paths for the current pair and repetitions\n",
    "        for i in range(num_rows):\n",
    "            input_videos = [f\"{input_dir}/pair{pair_idx+i:02d}_{pair_idx+i+1:02d}_rep{rep_idx:02d}.mp4\" for input_dir in input_dirs]\n",
    "            output_video = f\"{output_dir}/pair{pair_idx+i:02d}_{pair_idx+i+1:02d}_rep{rep_idx:02d}_grid.mp4\"\n",
    "            generate_hstack_videos(input_videos, output_video)\n",
    "            output_videos.append(output_video)\n",
    "\n",
    "        output_video = f\"{output_dir}/pair{pair_idx:02d}_{pair_idx+1:02d}_rep{rep_idx:02d}_grid.mp4\"        \n",
    "        generate_vstack_videos(output_videos, output_video)        \n",
    "\n",
    "print(\"Done!\")\n"
   ]
  }
 ],
 "metadata": {
  "kernelspec": {
   "display_name": "mdm",
   "language": "python",
   "name": "python3"
  },
  "language_info": {
   "codemirror_mode": {
    "name": "ipython",
    "version": 3
   },
   "file_extension": ".py",
   "mimetype": "text/x-python",
   "name": "python",
   "nbconvert_exporter": "python",
   "pygments_lexer": "ipython3",
   "version": "3.7.13"
  },
  "orig_nbformat": 4
 },
 "nbformat": 4,
 "nbformat_minor": 2
}
