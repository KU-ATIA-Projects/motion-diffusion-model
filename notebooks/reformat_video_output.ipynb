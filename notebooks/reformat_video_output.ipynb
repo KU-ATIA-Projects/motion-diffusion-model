{
 "cells": [
  {
   "cell_type": "code",
   "execution_count": 3,
   "metadata": {},
   "outputs": [],
   "source": [
    "import os\n",
    "import subprocess\n",
    "from glob import glob\n",
    "from tqdm import tqdm\n",
    "\n",
    "\n",
    "def generate_hstack_videos(input_videos, output_video):    \n",
    "    ffmpeg_rep_files = [f' -i {f} ' for f in input_videos]\n",
    "    hstack_args = f' -filter_complex hstack=inputs={len(input_videos)}' if len(input_videos) > 1 else ''\n",
    "    ffmpeg_rep_cmd = f'ffmpeg -y -loglevel warning ' + ''.join(ffmpeg_rep_files) + f'{hstack_args} {output_video}'\n",
    "    os.system(ffmpeg_rep_cmd)\n",
    "\n",
    "\n",
    "def generate_vstack_videos(input_videos, output_video):\n",
    "    ffmpeg_rep_files = [f' -i {f} ' for f in input_videos]\n",
    "    vstack_args = f' -filter_complex vstack=inputs={len(input_videos)}' if len(input_videos) > 1 else ''\n",
    "    ffmpeg_rep_cmd = f'ffmpeg -y -loglevel warning ' + ''.join(ffmpeg_rep_files) + f'{vstack_args} {output_video}'\n",
    "    os.system(ffmpeg_rep_cmd)\n",
    "\n",
    "def reorganize_motion_videos(num_pairs, num_rows, num_repetitions, input_dirs, output_dir):\n",
    "    print(\"Reorganizing motion videos...\")\n",
    "    os.makedirs(output_dir, exist_ok=True)\n",
    "    # Iterate over the pair indexes and repetitions\n",
    "    for rep_idx in tqdm(range(num_repetitions), desc=\"Repetitions\"):\n",
    "        for pair_idx in tqdm(range(0, num_pairs * num_rows, num_rows), desc=\"Pairs\"):\n",
    "            output_videos = []\n",
    "            # Build the list of input video paths for the current pair and repetitions\n",
    "            for i in range(num_rows):\n",
    "                input_videos = [f\"{input_dir}/sample{pair_idx+i:02d}_rep{rep_idx:02d}.mp4\" for input_dir in input_dirs]\n",
    "                output_video = f\"{output_dir}/sample{pair_idx+i:02d}_rep{rep_idx:02d}_grid.mp4\"\n",
    "                generate_hstack_videos(input_videos, output_video)\n",
    "                output_videos.append(output_video)\n",
    "\n",
    "            output_video = f\"{output_dir}/pair{pair_idx:02d}_{pair_idx + num_rows - 1:02d}_rep{rep_idx:02d}_grid.mp4\"        \n",
    "            generate_vstack_videos(output_videos, output_video)        \n",
    "\n",
    "    print(\"Done!\")\n"
   ]
  },
  {
   "cell_type": "code",
   "execution_count": 9,
   "metadata": {},
   "outputs": [
    {
     "name": "stdout",
     "output_type": "stream",
     "text": [
      "Reorganizing motion videos...\n"
     ]
    },
    {
     "name": "stderr",
     "output_type": "stream",
     "text": [
      "Pairs: 100%|██████████| 12/12 [01:08<00:00,  5.70s/it]\n",
      "Repetitions: 100%|██████████| 1/1 [01:08<00:00, 68.45s/it]"
     ]
    },
    {
     "name": "stdout",
     "output_type": "stream",
     "text": [
      "Done!\n"
     ]
    },
    {
     "name": "stderr",
     "output_type": "stream",
     "text": [
      "\n"
     ]
    }
   ],
   "source": [
    "num_pairs = 12\n",
    "num_repetitions = 1\n",
    "num_rows = 4\n",
    "input_dirs = sorted(glob('/home/ctq566/motion-diffusion-model/save/p2p_quaternion_2_random/*'))\n",
    "output_dir = \"/home/ctq566/motion-diffusion-model/save/p2p_quaternion_2_random_grid/\"\n",
    "\n",
    "reorganize_motion_videos(num_pairs, num_rows, num_repetitions, input_dirs, output_dir)"
   ]
  },
  {
   "cell_type": "code",
   "execution_count": 5,
   "metadata": {},
   "outputs": [
    {
     "data": {
      "text/plain": [
       "False"
      ]
     },
     "execution_count": 5,
     "metadata": {},
     "output_type": "execute_result"
    }
   ],
   "source": [
    "import numpy as np\n",
    "\n",
    "\n",
    "data_1 = np.load('/home/ctq566/motion-diffusion-model/save/p2p_quaternion/001/sample01_rep00.npy')\n",
    "data_2 = np.load('/home/ctq566/motion-diffusion-model/save/p2p_quaternion/007/sample01_rep00.npy')\n",
    "(data_1 == data_2).all()"
   ]
  },
  {
   "cell_type": "code",
   "execution_count": 33,
   "metadata": {},
   "outputs": [
    {
     "name": "stdout",
     "output_type": "stream",
     "text": [
      "36\n",
      "36\n",
      "36\n",
      "36\n",
      "36\n",
      "36\n",
      "36\n",
      "36\n",
      "36\n",
      "36\n",
      "36\n",
      "36\n",
      "36\n",
      "36\n",
      "36\n",
      "36\n",
      "36\n",
      "36\n",
      "36\n",
      "36\n",
      "36\n",
      "36\n",
      "36\n",
      "36\n",
      "36\n"
     ]
    }
   ],
   "source": [
    "def check(sample_id):\n",
    "    res = 0\n",
    "    for i in range(1, 9):\n",
    "        for j in range(i + 1, 10):\n",
    "            data_1 = np.load(f'/home/ctq566/motion-diffusion-model/save/p2p_quaternion/{i:02d}/sample{sample_id:02d}_rep00.npy')\n",
    "            data_2 = np.load(f'/home/ctq566/motion-diffusion-model/save/p2p_quaternion/{j:02d}/sample{sample_id:02d}_rep00.npy')\n",
    "            res += (data_1 == data_2).all()\n",
    "    return res\n",
    "\n",
    "\n",
    "for i in range(1, 100, 4):\n",
    "    print(check(0))\n"
   ]
  },
  {
   "cell_type": "code",
   "execution_count": null,
   "metadata": {},
   "outputs": [],
   "source": []
  }
 ],
 "metadata": {
  "kernelspec": {
   "display_name": "mdm",
   "language": "python",
   "name": "python3"
  },
  "language_info": {
   "codemirror_mode": {
    "name": "ipython",
    "version": 3
   },
   "file_extension": ".py",
   "mimetype": "text/x-python",
   "name": "python",
   "nbconvert_exporter": "python",
   "pygments_lexer": "ipython3",
   "version": "3.7.13"
  },
  "orig_nbformat": 4
 },
 "nbformat": 4,
 "nbformat_minor": 2
}
