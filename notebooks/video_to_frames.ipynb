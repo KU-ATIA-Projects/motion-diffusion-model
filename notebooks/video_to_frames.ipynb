{
 "cells": [
  {
   "cell_type": "code",
   "execution_count": 2,
   "metadata": {},
   "outputs": [
    {
     "data": {
      "text/plain": [
       "True"
      ]
     },
     "execution_count": 2,
     "metadata": {},
     "output_type": "execute_result"
    }
   ],
   "source": [
    "import cv2\n",
    "import math\n",
    "\n",
    "# Open the video file\n",
    "cap = cv2.VideoCapture('/home/ctq566/motion-diffusion-model/notebooks/sample00_rep00_smplx.mp4')\n",
    "\n",
    "# Get the total number of frames in the video\n",
    "total_frames = int(cap.get(cv2.CAP_PROP_FRAME_COUNT))\n",
    "\n",
    "# Set the number of frames you want to extract\n",
    "num_frames = 12\n",
    "\n",
    "# Calculate the frame interval\n",
    "frame_interval = math.floor(total_frames / num_frames)\n",
    "\n",
    "# Initialize an empty list to store the frames\n",
    "frames = []\n",
    "\n",
    "# Loop through the video frames and extract the frames at the specified interval\n",
    "for i in range(0, total_frames, frame_interval):\n",
    "    # Set the frame index\n",
    "    cap.set(cv2.CAP_PROP_POS_FRAMES, i)\n",
    "    # Read the frame\n",
    "    ret, frame = cap.read()\n",
    "    # Remove the white border (assuming a 5-pixel border)\n",
    "    # frame = cv2.copyMakeBorder(frame, 30, 20, 20, 30, cv2.BORDER_CONSTANT, value=(0, 0, 0))\n",
    "\n",
    "    h, w, _ = frame.shape\n",
    "    # The crop size is 200x100 for MDM single output only\n",
    "    cropped = frame[(h-150)//2:(h-200)//2+200, (w-100)//2:(w-100)//2+100, :] \n",
    "    # Add the frame to the list\n",
    "    frames.append(cropped)\n",
    "\n",
    "# Concatenate the frames horizontally\n",
    "frame_array = cv2.hconcat(frames)\n",
    "\n",
    "# Save the concatenated frames as a single image with higher resolution\n",
    "cv2.imwrite('motion1a.jpg', frame_array)\n"
   ]
  },
  {
   "cell_type": "code",
   "execution_count": 6,
   "metadata": {},
   "outputs": [
    {
     "data": {
      "text/plain": [
       "True"
      ]
     },
     "execution_count": 6,
     "metadata": {},
     "output_type": "execute_result"
    }
   ],
   "source": [
    "import cv2\n",
    "import math\n",
    "\n",
    "# Open the video file\n",
    "cap = cv2.VideoCapture('/home/ctq566/motion-diffusion-model/notebooks/sample00_rep00_smplx.mp4')\n",
    "\n",
    "# Get the total number of frames in the video\n",
    "total_frames = int(cap.get(cv2.CAP_PROP_FRAME_COUNT))\n",
    "\n",
    "# Set the number of frames you want to extract\n",
    "num_frames = 12\n",
    "\n",
    "# Calculate the frame interval\n",
    "frame_interval = math.floor(total_frames / num_frames)\n",
    "\n",
    "# Initialize an empty list to store the frames\n",
    "frames = []\n",
    "\n",
    "# Loop through the video frames and extract the frames at the specified interval\n",
    "for i in range(0, total_frames, frame_interval):\n",
    "    # Set the frame index\n",
    "    cap.set(cv2.CAP_PROP_POS_FRAMES, i)\n",
    "    # Read the frame\n",
    "    ret, frame = cap.read()\n",
    "    # Remove the white border (assuming a 5-pixel border)\n",
    "    # frame = cv2.copyMakeBorder(frame, 30, 20, 20, 30, cv2.BORDER_CONSTANT, value=(0, 0, 0))\n",
    "\n",
    "    h, w, _ = frame.shape\n",
    "    cropped = frame[(h-100)//2:(h-100)//2+100, (w-100)//2:(w-100)//2+100, :] \n",
    "    # Add the frame to the list\n",
    "    frames.append(cropped)\n",
    "\n",
    "# Concatenate the frames horizontally\n",
    "frame_array = cv2.hconcat(frames)\n",
    "\n",
    "# Save the concatenated frames as a single image with higher resolution\n",
    "cv2.imwrite('motion_rendered.jpg', frame_array)\n"
   ]
  },
  {
   "cell_type": "code",
   "execution_count": 5,
   "metadata": {},
   "outputs": [],
   "source": [
    "def video_to_frames(video_path, num_frames, save_path):\n",
    "    # Open the video file\n",
    "    cap = cv2.VideoCapture(video_path)\n",
    "\n",
    "    # Get the total number of frames in the video\n",
    "    total_frames = int(cap.get(cv2.CAP_PROP_FRAME_COUNT))\n",
    "\n",
    "    # Calculate the frame interval\n",
    "    frame_interval = math.floor(total_frames / num_frames)\n",
    "\n",
    "    # Initialize an empty list to store the frames\n",
    "    frames = []\n",
    "\n",
    "    # Loop through the video frames and extract the frames at the specified interval\n",
    "    for i in range(0, total_frames, frame_interval):\n",
    "        # Set the frame index\n",
    "        cap.set(cv2.CAP_PROP_POS_FRAMES, i)\n",
    "        # Read the frame\n",
    "        ret, frame = cap.read()\n",
    "        # Remove the white border (assuming a 5-pixel border)\n",
    "        # frame = cv2.copyMakeBorder(frame, 30, 20, 20, 30, cv2.BORDER_CONSTANT, value=(0, 0, 0))\n",
    "\n",
    "        h, w, _ = frame.shape\n",
    "        cropped = frame[(h-300)//2:(h-300)//2+300, (w-300)//2:(w-300)//2+300, :]\n",
    "        # Add the frame to the list\n",
    "        frames.append(cropped)\n",
    "    \n",
    "    # Concatenate the frames horizontally\n",
    "    frame_array = cv2.hconcat(frames)\n",
    "\n",
    "    # Save the concatenated frames as a single image with higher resolution\n",
    "    cv2.imwrite(save_path, frame_array)"
   ]
  },
  {
   "cell_type": "code",
   "execution_count": null,
   "metadata": {},
   "outputs": [],
   "source": [
    "import cv2\n",
    "import math\n",
    "\n",
    "# Open the video file\n",
    "cap = cv2.VideoCapture('/home/ctq566/motion-diffusion-model/save/humanml_trans_enc_512/samples_humanml_trans_enc_512_000200000_seed10_promptsjsonl/sample03_rep02.mp4')\n",
    "\n",
    "# Get the total number of frames in the video\n",
    "total_frames = int(cap.get(cv2.CAP_PROP_FRAME_COUNT))\n",
    "\n",
    "# Set the number of frames you want to extract\n",
    "num_frames = 12\n",
    "\n",
    "# Calculate the frame interval\n",
    "frame_interval = math.floor(total_frames / num_frames)\n",
    "\n",
    "# Initialize an empty list to store the frames\n",
    "frames = []\n",
    "\n",
    "# Loop through the video frames and extract the frames at the specified interval\n",
    "for i in range(0, total_frames, frame_interval):\n",
    "    # Set the frame index\n",
    "    cap.set(cv2.CAP_PROP_POS_FRAMES, i)\n",
    "    # Read the frame\n",
    "    ret, frame = cap.read()\n",
    "    # Remove the white border (assuming a 5-pixel border)\n",
    "    # frame = cv2.copyMakeBorder(frame, 30, 20, 20, 30, cv2.BORDER_CONSTANT, value=(0, 0, 0))\n",
    "\n",
    "    h, w, _ = frame.shape\n",
    "    cropped = frame[(h-150)//2:(h-200)//2+200, (w-100)//2:(w-100)//2+100, :]\n",
    "    # Add the frame to the list\n",
    "    frames.append(cropped)\n",
    "\n",
    "# Concatenate the frames horizontally\n",
    "frame_array = cv2.hconcat(frames)\n",
    "\n",
    "# Save the concatenated frames as a single image with higher resolution\n",
    "cv2.imwrite('motion1c.jpg', frame_array)\n"
   ]
  }
 ],
 "metadata": {
  "kernelspec": {
   "display_name": "mdm",
   "language": "python",
   "name": "python3"
  },
  "language_info": {
   "codemirror_mode": {
    "name": "ipython",
    "version": 3
   },
   "file_extension": ".py",
   "mimetype": "text/x-python",
   "name": "python",
   "nbconvert_exporter": "python",
   "pygments_lexer": "ipython3",
   "version": "3.7.13"
  },
  "orig_nbformat": 4
 },
 "nbformat": 4,
 "nbformat_minor": 2
}
