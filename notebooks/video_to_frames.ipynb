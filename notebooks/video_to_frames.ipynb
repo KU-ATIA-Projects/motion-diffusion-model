{
 "cells": [
  {
   "cell_type": "code",
   "execution_count": 15,
   "metadata": {},
   "outputs": [],
   "source": [
    "import cv2\n",
    "import math\n",
    "\n",
    "\n",
    "def video_to_frames(video_path, save_path=None, num_frames=12, crop=(150, 200, 100, 100)):\n",
    "    # Open the video file\n",
    "    cap = cv2.VideoCapture(video_path)\n",
    "\n",
    "    # Get the total number of frames in the video\n",
    "    total_frames = int(cap.get(cv2.CAP_PROP_FRAME_COUNT))\n",
    "\n",
    "    # Calculate the frame interval\n",
    "    frame_interval = math.floor(total_frames / num_frames)\n",
    "\n",
    "    # Initialize an empty list to store the frames\n",
    "    frames = []\n",
    "\n",
    "    # Loop through the video frames and extract the frames at the specified interval\n",
    "    for i in range(0, total_frames, frame_interval):\n",
    "        # Set the frame index\n",
    "        cap.set(cv2.CAP_PROP_POS_FRAMES, i)\n",
    "        # Read the frame\n",
    "        ret, frame = cap.read()\n",
    "        # Remove the white border (assuming a 5-pixel border)\n",
    "        # frame = cv2.copyMakeBorder(frame, 30, 20, 20, 30, cv2.BORDER_CONSTANT, value=(0, 0, 0))\n",
    "\n",
    "        h, w, _ = frame.shape\n",
    "        cropped = frame[(h-crop[0])//2:(h-crop[1])//2+crop[1], (w-crop[2])//2:(w-crop[3])//2+crop[3], :]\n",
    "        # Add the frame to the list\n",
    "        frames.append(cropped)\n",
    "    \n",
    "    # Concatenate the frames horizontally\n",
    "    frame_array = cv2.hconcat(frames)\n",
    "\n",
    "    # Save the concatenated frames as a single image with higher resolution\n",
    "    save_path = save_path and video_path.replace('.mp4', '.png')\n",
    "    cv2.imwrite(save_path, frame_array)\n"
   ]
  },
  {
   "cell_type": "code",
   "execution_count": 16,
   "metadata": {},
   "outputs": [],
   "source": [
    "file_path = '/home/ctq566/motion-diffusion-model/save/in_thesis/sample16_rep00.mp4'\n",
    "video_to_frames(file_path, save_path='/home/ctq566/motion-diffusion-model/save/in_thesis/sample16_rep00.png')"
   ]
  },
  {
   "cell_type": "code",
   "execution_count": null,
   "metadata": {},
   "outputs": [],
   "source": []
  }
 ],
 "metadata": {
  "kernelspec": {
   "display_name": "mdm",
   "language": "python",
   "name": "python3"
  },
  "language_info": {
   "codemirror_mode": {
    "name": "ipython",
    "version": 3
   },
   "file_extension": ".py",
   "mimetype": "text/x-python",
   "name": "python",
   "nbconvert_exporter": "python",
   "pygments_lexer": "ipython3",
   "version": "3.7.13"
  },
  "orig_nbformat": 4
 },
 "nbformat": 4,
 "nbformat_minor": 2
}
