{
 "cells": [
  {
   "attachments": {},
   "cell_type": "markdown",
   "metadata": {},
   "source": [
    "# Experiments: interpolation\n",
    "* Use `./sample/generate_from_latent.py` to convert the latent representation to `xyz` representation.\n",
    "* Make stick animation based on the `xyz` representation.\n",
    "* Observe the results, choose several motions and do interpolation on the latent representation (as well as the xyz representation).\n",
    "* Visualize the interpolation results and make a comparison."
   ]
  },
  {
   "cell_type": "code",
   "execution_count": 8,
   "metadata": {},
   "outputs": [],
   "source": [
    "import os\n",
    "import sys\n",
    "sys.path.append('../')\n",
    "import numpy as np\n",
    "from data_loaders.humanml.utils.plot_script import plot_3d_motion\n",
    "import data_loaders.humanml.utils.paramUtil as paramUtil\n",
    "\n",
    "\n",
    "def my_plot_3d_motion(animation_save_path, motion, skeleton = paramUtil.t2m_kinematic_chain, dataset = 'humanml', title:str =\"\", fps=20, vis_mode='default'):\n",
    "    plot_3d_motion(animation_save_path, skeleton, motion, title, dataset, fps=fps, vis_mode=vis_mode)\n",
    "\n"
   ]
  },
  {
   "cell_type": "code",
   "execution_count": null,
   "metadata": {},
   "outputs": [],
   "source": [
    "# import glob\n",
    "\n",
    "# for file in glob.glob('/home/ctq566/motion-diffusion-model/save/interpolation/*.npy'):\n",
    "#     with open(file, 'rb') as f:\n",
    "#         motion = np.load(f)\n",
    "#         my_plot_3d_motion(file[:-4] + '.mp4', motion)"
   ]
  },
  {
   "cell_type": "code",
   "execution_count": 10,
   "metadata": {},
   "outputs": [],
   "source": [
    "filepath_template = '/home/ctq566/motion-diffusion-model/save/interpolation/interpolation{}.npy'\n",
    "for i in range(7):\n",
    "    file = filepath_template.format(i)\n",
    "    with open(file, 'rb') as f:\n",
    "        motion = np.load(f)\n",
    "        if i == 1 or i == 5:\n",
    "            my_plot_3d_motion(file[:-4] + '.mp4', motion, vis_mode='gt')\n",
    "        else:\n",
    "            my_plot_3d_motion(file[:-4] + '.mp4', motion)\n",
    "            "
   ]
  },
  {
   "cell_type": "code",
   "execution_count": 13,
   "metadata": {},
   "outputs": [],
   "source": [
    "import os\n",
    "import glob\n",
    "import subprocess\n",
    "from tqdm import tqdm\n",
    "\n",
    "\n",
    "def generate_hstack_videos(input_videos, output_video):    \n",
    "    ffmpeg_rep_files = [f' -i {f} ' for f in input_videos]\n",
    "    hstack_args = f' -filter_complex hstack=inputs={len(input_videos)}' if len(input_videos) > 1 else ''\n",
    "    ffmpeg_rep_cmd = f'ffmpeg -y -loglevel warning ' + ''.join(ffmpeg_rep_files) + f'{hstack_args} {output_video}'\n",
    "    os.system(ffmpeg_rep_cmd)\n",
    "\n",
    "\n",
    "input_videos = sorted(glob.glob('/home/ctq566/motion-diffusion-model/save/interpolation/interpolation*.mp4'))\n",
    "output_video = '/home/ctq566/motion-diffusion-model/save/interpolation/res_interpolation.mp4'\n",
    "generate_hstack_videos(input_videos, output_video)\n"
   ]
  },
  {
   "cell_type": "code",
   "execution_count": null,
   "metadata": {},
   "outputs": [],
   "source": []
  }
 ],
 "metadata": {
  "kernelspec": {
   "display_name": "mdm",
   "language": "python",
   "name": "python3"
  },
  "language_info": {
   "codemirror_mode": {
    "name": "ipython",
    "version": 3
   },
   "file_extension": ".py",
   "mimetype": "text/x-python",
   "name": "python",
   "nbconvert_exporter": "python",
   "pygments_lexer": "ipython3",
   "version": "3.7.13"
  },
  "orig_nbformat": 4
 },
 "nbformat": 4,
 "nbformat_minor": 2
}
